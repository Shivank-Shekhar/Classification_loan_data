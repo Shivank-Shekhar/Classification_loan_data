{
  "nbformat": 4,
  "nbformat_minor": 0,
  "metadata": {
    "colab": {
      "provenance": []
    },
    "kernelspec": {
      "name": "python3",
      "display_name": "Python 3"
    },
    "language_info": {
      "name": "python"
    }
  },
  "cells": [
    {
      "cell_type": "code",
      "execution_count": 169,
      "metadata": {
        "colab": {
          "base_uri": "https://localhost:8080/",
          "height": 270
        },
        "id": "94HBe-e8GzeD",
        "outputId": "60de3153-8eee-4329-b7bc-81950376d3a7"
      },
      "outputs": [
        {
          "output_type": "execute_result",
          "data": {
            "text/plain": [
              "   ID  Income_of_Applicant  Income_of_Joint_Applicant  \\\n",
              "0   1                 5849                        0.0   \n",
              "1   2                 4583                     1508.0   \n",
              "2   3                 3000                        0.0   \n",
              "3   4                 2583                     2358.0   \n",
              "4   5                 6000                        0.0   \n",
              "\n",
              "   Loan_Amount_Requirement  Loan_Amount_Term  Credit_History Gender  \\\n",
              "0                      NaN             360.0             1.0   Male   \n",
              "1                    128.0             360.0             1.0   Male   \n",
              "2                     66.0             360.0             1.0   Male   \n",
              "3                    120.0             360.0             1.0   Male   \n",
              "4                    141.0             360.0             1.0   Male   \n",
              "\n",
              "  Is_Married No_of_Dependents Level_of_Education IS_Self_Employed  \\\n",
              "0         No                0           Graduate               No   \n",
              "1        Yes                1           Graduate               No   \n",
              "2        Yes                0           Graduate              Yes   \n",
              "3        Yes                0       Not Graduate               No   \n",
              "4         No                0           Graduate               No   \n",
              "\n",
              "  Area_of_Property Loan_Status  \n",
              "0            Urban           Y  \n",
              "1            Rural           N  \n",
              "2            Urban           Y  \n",
              "3            Urban           Y  \n",
              "4            Urban           Y  "
            ],
            "text/html": [
              "\n",
              "  <div id=\"df-f1ec14fe-815b-482a-8e31-685c082d60d5\">\n",
              "    <div class=\"colab-df-container\">\n",
              "      <div>\n",
              "<style scoped>\n",
              "    .dataframe tbody tr th:only-of-type {\n",
              "        vertical-align: middle;\n",
              "    }\n",
              "\n",
              "    .dataframe tbody tr th {\n",
              "        vertical-align: top;\n",
              "    }\n",
              "\n",
              "    .dataframe thead th {\n",
              "        text-align: right;\n",
              "    }\n",
              "</style>\n",
              "<table border=\"1\" class=\"dataframe\">\n",
              "  <thead>\n",
              "    <tr style=\"text-align: right;\">\n",
              "      <th></th>\n",
              "      <th>ID</th>\n",
              "      <th>Income_of_Applicant</th>\n",
              "      <th>Income_of_Joint_Applicant</th>\n",
              "      <th>Loan_Amount_Requirement</th>\n",
              "      <th>Loan_Amount_Term</th>\n",
              "      <th>Credit_History</th>\n",
              "      <th>Gender</th>\n",
              "      <th>Is_Married</th>\n",
              "      <th>No_of_Dependents</th>\n",
              "      <th>Level_of_Education</th>\n",
              "      <th>IS_Self_Employed</th>\n",
              "      <th>Area_of_Property</th>\n",
              "      <th>Loan_Status</th>\n",
              "    </tr>\n",
              "  </thead>\n",
              "  <tbody>\n",
              "    <tr>\n",
              "      <th>0</th>\n",
              "      <td>1</td>\n",
              "      <td>5849</td>\n",
              "      <td>0.0</td>\n",
              "      <td>NaN</td>\n",
              "      <td>360.0</td>\n",
              "      <td>1.0</td>\n",
              "      <td>Male</td>\n",
              "      <td>No</td>\n",
              "      <td>0</td>\n",
              "      <td>Graduate</td>\n",
              "      <td>No</td>\n",
              "      <td>Urban</td>\n",
              "      <td>Y</td>\n",
              "    </tr>\n",
              "    <tr>\n",
              "      <th>1</th>\n",
              "      <td>2</td>\n",
              "      <td>4583</td>\n",
              "      <td>1508.0</td>\n",
              "      <td>128.0</td>\n",
              "      <td>360.0</td>\n",
              "      <td>1.0</td>\n",
              "      <td>Male</td>\n",
              "      <td>Yes</td>\n",
              "      <td>1</td>\n",
              "      <td>Graduate</td>\n",
              "      <td>No</td>\n",
              "      <td>Rural</td>\n",
              "      <td>N</td>\n",
              "    </tr>\n",
              "    <tr>\n",
              "      <th>2</th>\n",
              "      <td>3</td>\n",
              "      <td>3000</td>\n",
              "      <td>0.0</td>\n",
              "      <td>66.0</td>\n",
              "      <td>360.0</td>\n",
              "      <td>1.0</td>\n",
              "      <td>Male</td>\n",
              "      <td>Yes</td>\n",
              "      <td>0</td>\n",
              "      <td>Graduate</td>\n",
              "      <td>Yes</td>\n",
              "      <td>Urban</td>\n",
              "      <td>Y</td>\n",
              "    </tr>\n",
              "    <tr>\n",
              "      <th>3</th>\n",
              "      <td>4</td>\n",
              "      <td>2583</td>\n",
              "      <td>2358.0</td>\n",
              "      <td>120.0</td>\n",
              "      <td>360.0</td>\n",
              "      <td>1.0</td>\n",
              "      <td>Male</td>\n",
              "      <td>Yes</td>\n",
              "      <td>0</td>\n",
              "      <td>Not Graduate</td>\n",
              "      <td>No</td>\n",
              "      <td>Urban</td>\n",
              "      <td>Y</td>\n",
              "    </tr>\n",
              "    <tr>\n",
              "      <th>4</th>\n",
              "      <td>5</td>\n",
              "      <td>6000</td>\n",
              "      <td>0.0</td>\n",
              "      <td>141.0</td>\n",
              "      <td>360.0</td>\n",
              "      <td>1.0</td>\n",
              "      <td>Male</td>\n",
              "      <td>No</td>\n",
              "      <td>0</td>\n",
              "      <td>Graduate</td>\n",
              "      <td>No</td>\n",
              "      <td>Urban</td>\n",
              "      <td>Y</td>\n",
              "    </tr>\n",
              "  </tbody>\n",
              "</table>\n",
              "</div>\n",
              "      <button class=\"colab-df-convert\" onclick=\"convertToInteractive('df-f1ec14fe-815b-482a-8e31-685c082d60d5')\"\n",
              "              title=\"Convert this dataframe to an interactive table.\"\n",
              "              style=\"display:none;\">\n",
              "        \n",
              "  <svg xmlns=\"http://www.w3.org/2000/svg\" height=\"24px\"viewBox=\"0 0 24 24\"\n",
              "       width=\"24px\">\n",
              "    <path d=\"M0 0h24v24H0V0z\" fill=\"none\"/>\n",
              "    <path d=\"M18.56 5.44l.94 2.06.94-2.06 2.06-.94-2.06-.94-.94-2.06-.94 2.06-2.06.94zm-11 1L8.5 8.5l.94-2.06 2.06-.94-2.06-.94L8.5 2.5l-.94 2.06-2.06.94zm10 10l.94 2.06.94-2.06 2.06-.94-2.06-.94-.94-2.06-.94 2.06-2.06.94z\"/><path d=\"M17.41 7.96l-1.37-1.37c-.4-.4-.92-.59-1.43-.59-.52 0-1.04.2-1.43.59L10.3 9.45l-7.72 7.72c-.78.78-.78 2.05 0 2.83L4 21.41c.39.39.9.59 1.41.59.51 0 1.02-.2 1.41-.59l7.78-7.78 2.81-2.81c.8-.78.8-2.07 0-2.86zM5.41 20L4 18.59l7.72-7.72 1.47 1.35L5.41 20z\"/>\n",
              "  </svg>\n",
              "      </button>\n",
              "      \n",
              "  <style>\n",
              "    .colab-df-container {\n",
              "      display:flex;\n",
              "      flex-wrap:wrap;\n",
              "      gap: 12px;\n",
              "    }\n",
              "\n",
              "    .colab-df-convert {\n",
              "      background-color: #E8F0FE;\n",
              "      border: none;\n",
              "      border-radius: 50%;\n",
              "      cursor: pointer;\n",
              "      display: none;\n",
              "      fill: #1967D2;\n",
              "      height: 32px;\n",
              "      padding: 0 0 0 0;\n",
              "      width: 32px;\n",
              "    }\n",
              "\n",
              "    .colab-df-convert:hover {\n",
              "      background-color: #E2EBFA;\n",
              "      box-shadow: 0px 1px 2px rgba(60, 64, 67, 0.3), 0px 1px 3px 1px rgba(60, 64, 67, 0.15);\n",
              "      fill: #174EA6;\n",
              "    }\n",
              "\n",
              "    [theme=dark] .colab-df-convert {\n",
              "      background-color: #3B4455;\n",
              "      fill: #D2E3FC;\n",
              "    }\n",
              "\n",
              "    [theme=dark] .colab-df-convert:hover {\n",
              "      background-color: #434B5C;\n",
              "      box-shadow: 0px 1px 3px 1px rgba(0, 0, 0, 0.15);\n",
              "      filter: drop-shadow(0px 1px 2px rgba(0, 0, 0, 0.3));\n",
              "      fill: #FFFFFF;\n",
              "    }\n",
              "  </style>\n",
              "\n",
              "      <script>\n",
              "        const buttonEl =\n",
              "          document.querySelector('#df-f1ec14fe-815b-482a-8e31-685c082d60d5 button.colab-df-convert');\n",
              "        buttonEl.style.display =\n",
              "          google.colab.kernel.accessAllowed ? 'block' : 'none';\n",
              "\n",
              "        async function convertToInteractive(key) {\n",
              "          const element = document.querySelector('#df-f1ec14fe-815b-482a-8e31-685c082d60d5');\n",
              "          const dataTable =\n",
              "            await google.colab.kernel.invokeFunction('convertToInteractive',\n",
              "                                                     [key], {});\n",
              "          if (!dataTable) return;\n",
              "\n",
              "          const docLinkHtml = 'Like what you see? Visit the ' +\n",
              "            '<a target=\"_blank\" href=https://colab.research.google.com/notebooks/data_table.ipynb>data table notebook</a>'\n",
              "            + ' to learn more about interactive tables.';\n",
              "          element.innerHTML = '';\n",
              "          dataTable['output_type'] = 'display_data';\n",
              "          await google.colab.output.renderOutput(dataTable, element);\n",
              "          const docLink = document.createElement('div');\n",
              "          docLink.innerHTML = docLinkHtml;\n",
              "          element.appendChild(docLink);\n",
              "        }\n",
              "      </script>\n",
              "    </div>\n",
              "  </div>\n",
              "  "
            ]
          },
          "metadata": {},
          "execution_count": 169
        }
      ],
      "source": [
        "import pandas as pd\n",
        "data = pd.read_csv('/content/Classification_Loan_Data.csv')\n",
        "data.head()"
      ]
    },
    {
      "cell_type": "code",
      "source": [
        "data.info()"
      ],
      "metadata": {
        "colab": {
          "base_uri": "https://localhost:8080/"
        },
        "id": "95T5GNEjHs24",
        "outputId": "6ca4233b-0c07-48ed-e989-31824eceb17a"
      },
      "execution_count": 170,
      "outputs": [
        {
          "output_type": "stream",
          "name": "stdout",
          "text": [
            "<class 'pandas.core.frame.DataFrame'>\n",
            "RangeIndex: 614 entries, 0 to 613\n",
            "Data columns (total 13 columns):\n",
            " #   Column                     Non-Null Count  Dtype  \n",
            "---  ------                     --------------  -----  \n",
            " 0   ID                         614 non-null    int64  \n",
            " 1   Income_of_Applicant        614 non-null    int64  \n",
            " 2   Income_of_Joint_Applicant  614 non-null    float64\n",
            " 3   Loan_Amount_Requirement    592 non-null    float64\n",
            " 4   Loan_Amount_Term           600 non-null    float64\n",
            " 5   Credit_History             564 non-null    float64\n",
            " 6   Gender                     601 non-null    object \n",
            " 7   Is_Married                 611 non-null    object \n",
            " 8   No_of_Dependents           599 non-null    object \n",
            " 9   Level_of_Education         614 non-null    object \n",
            " 10  IS_Self_Employed           582 non-null    object \n",
            " 11  Area_of_Property           614 non-null    object \n",
            " 12  Loan_Status                614 non-null    object \n",
            "dtypes: float64(4), int64(2), object(7)\n",
            "memory usage: 62.5+ KB\n"
          ]
        }
      ]
    },
    {
      "cell_type": "code",
      "source": [
        "data.isna().sum()\n"
      ],
      "metadata": {
        "colab": {
          "base_uri": "https://localhost:8080/"
        },
        "id": "sNyLYKc_H4u8",
        "outputId": "381d423f-cd20-434d-beb8-acfbe54d77a3"
      },
      "execution_count": 171,
      "outputs": [
        {
          "output_type": "execute_result",
          "data": {
            "text/plain": [
              "ID                            0\n",
              "Income_of_Applicant           0\n",
              "Income_of_Joint_Applicant     0\n",
              "Loan_Amount_Requirement      22\n",
              "Loan_Amount_Term             14\n",
              "Credit_History               50\n",
              "Gender                       13\n",
              "Is_Married                    3\n",
              "No_of_Dependents             15\n",
              "Level_of_Education            0\n",
              "IS_Self_Employed             32\n",
              "Area_of_Property              0\n",
              "Loan_Status                   0\n",
              "dtype: int64"
            ]
          },
          "metadata": {},
          "execution_count": 171
        }
      ]
    },
    {
      "cell_type": "code",
      "source": [
        "dataN = data.dropna()\n",
        "dataN\n",
        "dataN = dataN.drop(['ID'], axis=1)\n",
        "dataN.info()"
      ],
      "metadata": {
        "colab": {
          "base_uri": "https://localhost:8080/"
        },
        "id": "vxzyRpJOJz1F",
        "outputId": "92e1215e-ac2f-4252-8fd1-89571707020d"
      },
      "execution_count": 172,
      "outputs": [
        {
          "output_type": "stream",
          "name": "stdout",
          "text": [
            "<class 'pandas.core.frame.DataFrame'>\n",
            "Int64Index: 480 entries, 1 to 613\n",
            "Data columns (total 12 columns):\n",
            " #   Column                     Non-Null Count  Dtype  \n",
            "---  ------                     --------------  -----  \n",
            " 0   Income_of_Applicant        480 non-null    int64  \n",
            " 1   Income_of_Joint_Applicant  480 non-null    float64\n",
            " 2   Loan_Amount_Requirement    480 non-null    float64\n",
            " 3   Loan_Amount_Term           480 non-null    float64\n",
            " 4   Credit_History             480 non-null    float64\n",
            " 5   Gender                     480 non-null    object \n",
            " 6   Is_Married                 480 non-null    object \n",
            " 7   No_of_Dependents           480 non-null    object \n",
            " 8   Level_of_Education         480 non-null    object \n",
            " 9   IS_Self_Employed           480 non-null    object \n",
            " 10  Area_of_Property           480 non-null    object \n",
            " 11  Loan_Status                480 non-null    object \n",
            "dtypes: float64(4), int64(1), object(7)\n",
            "memory usage: 48.8+ KB\n"
          ]
        }
      ]
    },
    {
      "cell_type": "code",
      "source": [
        "dataN.columns"
      ],
      "metadata": {
        "colab": {
          "base_uri": "https://localhost:8080/"
        },
        "id": "vcO_IAkFLogM",
        "outputId": "3b890140-535d-46c5-89e1-2178c1cd0283"
      },
      "execution_count": 173,
      "outputs": [
        {
          "output_type": "execute_result",
          "data": {
            "text/plain": [
              "Index(['Income_of_Applicant', 'Income_of_Joint_Applicant',\n",
              "       'Loan_Amount_Requirement', 'Loan_Amount_Term', 'Credit_History',\n",
              "       'Gender', 'Is_Married', 'No_of_Dependents', 'Level_of_Education',\n",
              "       'IS_Self_Employed', 'Area_of_Property', 'Loan_Status'],\n",
              "      dtype='object')"
            ]
          },
          "metadata": {},
          "execution_count": 173
        }
      ]
    },
    {
      "cell_type": "code",
      "source": [
        "y = dataN['Loan_Status']\n",
        "x = dataN[['Income_of_Applicant', 'Income_of_Joint_Applicant',\n",
        "       'Loan_Amount_Requirement', 'Loan_Amount_Term', 'Credit_History',\n",
        "       'Gender', 'Is_Married', 'No_of_Dependents', 'Level_of_Education',\n",
        "       'IS_Self_Employed', 'Area_of_Property']]"
      ],
      "metadata": {
        "id": "csPwZg7gJ4lk"
      },
      "execution_count": 174,
      "outputs": []
    },
    {
      "cell_type": "code",
      "source": [
        "from sklearn.model_selection import train_test_split\n",
        "X_train, X_test, y_train, y_test = train_test_split(x,y, train_size=0.7, random_state=2)"
      ],
      "metadata": {
        "id": "CP1a1HGnL6b2"
      },
      "execution_count": 175,
      "outputs": []
    },
    {
      "cell_type": "code",
      "source": [
        "s = (X_train.dtypes == 'object')\n",
        "object_cols = list(s[s].index)\n",
        "\n",
        "print(\"Categorical variables:\")\n",
        "print(object_cols)"
      ],
      "metadata": {
        "colab": {
          "base_uri": "https://localhost:8080/"
        },
        "id": "AWKQdwUcM0HO",
        "outputId": "2d3aeee8-abd5-4a6c-c870-3105f4b9cc89"
      },
      "execution_count": 176,
      "outputs": [
        {
          "output_type": "stream",
          "name": "stdout",
          "text": [
            "Categorical variables:\n",
            "['Gender', 'Is_Married', 'No_of_Dependents', 'Level_of_Education', 'IS_Self_Employed', 'Area_of_Property']\n"
          ]
        }
      ]
    },
    {
      "cell_type": "code",
      "source": [
        "from sklearn.preprocessing import OrdinalEncoder\n",
        "ordinal_encoder = OrdinalEncoder()\n",
        "X_train[object_cols] = ordinal_encoder.fit_transform(X_train[object_cols])\n",
        "X_test[object_cols] = ordinal_encoder.transform(X_test[object_cols])"
      ],
      "metadata": {
        "id": "PeQ72azpOEnO"
      },
      "execution_count": 177,
      "outputs": []
    },
    {
      "cell_type": "code",
      "source": [
        "X_train.shape, X_test.shape, y_train.shape, y_test.shape"
      ],
      "metadata": {
        "colab": {
          "base_uri": "https://localhost:8080/"
        },
        "id": "YojbQ_K_MA5w",
        "outputId": "67fe45d8-dbb4-4a54-eee2-f42b309276b8"
      },
      "execution_count": 178,
      "outputs": [
        {
          "output_type": "execute_result",
          "data": {
            "text/plain": [
              "((336, 11), (144, 11), (336,), (144,))"
            ]
          },
          "metadata": {},
          "execution_count": 178
        }
      ]
    },
    {
      "cell_type": "code",
      "source": [
        "from sklearn.ensemble import RandomForestClassifier\n",
        "rfc= RandomForestClassifier()\n",
        "rfc.fit(X_train,y_train)\n",
        "y_pred=rfc.predict(X_test)\n",
        "from sklearn.metrics import accuracy_score\n",
        "accuracy_score(y_pred,y_test)"
      ],
      "metadata": {
        "colab": {
          "base_uri": "https://localhost:8080/"
        },
        "id": "1AxGXWqDPJQp",
        "outputId": "dc0a213d-cc9d-4b3a-976a-c3b88d94856a"
      },
      "execution_count": 179,
      "outputs": [
        {
          "output_type": "execute_result",
          "data": {
            "text/plain": [
              "0.7430555555555556"
            ]
          },
          "metadata": {},
          "execution_count": 179
        }
      ]
    },
    {
      "cell_type": "code",
      "source": [
        "from sklearn.linear_model import LogisticRegression\n",
        "log_model = LogisticRegression(max_iter=1000)\n",
        "\n",
        "log_model.fit(X_train,y_train)\n",
        "y_pred=log_model.predict(X_test)\n",
        "accuracy_score(y_test,y_pred)"
      ],
      "metadata": {
        "colab": {
          "base_uri": "https://localhost:8080/"
        },
        "id": "6n3seWMZPk_S",
        "outputId": "c22d77aa-0518-4c72-f512-193d617da39a"
      },
      "execution_count": 180,
      "outputs": [
        {
          "output_type": "execute_result",
          "data": {
            "text/plain": [
              "0.7777777777777778"
            ]
          },
          "metadata": {},
          "execution_count": 180
        }
      ]
    },
    {
      "cell_type": "code",
      "source": [
        "from sklearn.neighbors import KNeighborsClassifier\n",
        "kmodel = KNeighborsClassifier()  \n",
        "\n",
        "kmodel.fit(X_train,y_train)\n",
        "y_Pred = kmodel.predict(X_test)\n",
        "accuracy_score(y_test,y_pred)"
      ],
      "metadata": {
        "colab": {
          "base_uri": "https://localhost:8080/"
        },
        "id": "7G1tNiyiQzei",
        "outputId": "bc3e28ad-3a73-4f00-a056-48ade4f14583"
      },
      "execution_count": 181,
      "outputs": [
        {
          "output_type": "execute_result",
          "data": {
            "text/plain": [
              "0.7777777777777778"
            ]
          },
          "metadata": {},
          "execution_count": 181
        }
      ]
    },
    {
      "cell_type": "code",
      "source": [
        "data.columns"
      ],
      "metadata": {
        "colab": {
          "base_uri": "https://localhost:8080/"
        },
        "id": "iXiAPIdRUuMf",
        "outputId": "71181383-7f98-4059-a5ed-8eaa094a52f8"
      },
      "execution_count": 182,
      "outputs": [
        {
          "output_type": "execute_result",
          "data": {
            "text/plain": [
              "Index(['ID', 'Income_of_Applicant', 'Income_of_Joint_Applicant',\n",
              "       'Loan_Amount_Requirement', 'Loan_Amount_Term', 'Credit_History',\n",
              "       'Gender', 'Is_Married', 'No_of_Dependents', 'Level_of_Education',\n",
              "       'IS_Self_Employed', 'Area_of_Property', 'Loan_Status'],\n",
              "      dtype='object')"
            ]
          },
          "metadata": {},
          "execution_count": 182
        }
      ]
    },
    {
      "cell_type": "code",
      "source": [
        "y = data['Loan_Status']\n",
        "x = data[['Income_of_Applicant', 'Income_of_Joint_Applicant',\n",
        "       'Loan_Amount_Requirement', 'Loan_Amount_Term', 'Credit_History',\n",
        "       'Gender', 'Is_Married', 'No_of_Dependents', 'Level_of_Education',\n",
        "       'IS_Self_Employed', 'Area_of_Property']]"
      ],
      "metadata": {
        "id": "C0cMKzhPVR4f"
      },
      "execution_count": 183,
      "outputs": []
    },
    {
      "cell_type": "code",
      "source": [
        "data.info()"
      ],
      "metadata": {
        "colab": {
          "base_uri": "https://localhost:8080/"
        },
        "id": "YoBWaWmXXZ55",
        "outputId": "6cee8fd0-ec68-48bf-82a0-a53546651a3f"
      },
      "execution_count": 184,
      "outputs": [
        {
          "output_type": "stream",
          "name": "stdout",
          "text": [
            "<class 'pandas.core.frame.DataFrame'>\n",
            "RangeIndex: 614 entries, 0 to 613\n",
            "Data columns (total 13 columns):\n",
            " #   Column                     Non-Null Count  Dtype  \n",
            "---  ------                     --------------  -----  \n",
            " 0   ID                         614 non-null    int64  \n",
            " 1   Income_of_Applicant        614 non-null    int64  \n",
            " 2   Income_of_Joint_Applicant  614 non-null    float64\n",
            " 3   Loan_Amount_Requirement    592 non-null    float64\n",
            " 4   Loan_Amount_Term           600 non-null    float64\n",
            " 5   Credit_History             564 non-null    float64\n",
            " 6   Gender                     601 non-null    object \n",
            " 7   Is_Married                 611 non-null    object \n",
            " 8   No_of_Dependents           599 non-null    object \n",
            " 9   Level_of_Education         614 non-null    object \n",
            " 10  IS_Self_Employed           582 non-null    object \n",
            " 11  Area_of_Property           614 non-null    object \n",
            " 12  Loan_Status                614 non-null    object \n",
            "dtypes: float64(4), int64(2), object(7)\n",
            "memory usage: 62.5+ KB\n"
          ]
        }
      ]
    },
    {
      "cell_type": "code",
      "source": [
        "from sklearn.model_selection import train_test_split\n",
        "X_train, X_test, y_train, y_test = train_test_split(x,y, train_size=0.7, random_state=2)"
      ],
      "metadata": {
        "id": "ddcdlORjVY4H"
      },
      "execution_count": 185,
      "outputs": []
    },
    {
      "cell_type": "code",
      "source": [
        "s = (X_train.dtypes == 'object')\n",
        "object_cols = list(s[s].index)\n",
        "\n",
        "print(\"Categorical variables:\")\n",
        "print(object_cols)"
      ],
      "metadata": {
        "colab": {
          "base_uri": "https://localhost:8080/"
        },
        "id": "vMSTokHDVdXM",
        "outputId": "5c057bf7-2000-4228-ab07-043f8295d015"
      },
      "execution_count": 186,
      "outputs": [
        {
          "output_type": "stream",
          "name": "stdout",
          "text": [
            "Categorical variables:\n",
            "['Gender', 'Is_Married', 'No_of_Dependents', 'Level_of_Education', 'IS_Self_Employed', 'Area_of_Property']\n"
          ]
        }
      ]
    },
    {
      "cell_type": "code",
      "source": [
        "from sklearn.preprocessing import OrdinalEncoder\n",
        "ordinal_encoder = OrdinalEncoder()\n",
        "X_train[object_cols] = ordinal_encoder.fit_transform(X_train[object_cols])\n",
        "X_test[object_cols] = ordinal_encoder.transform(X_test[object_cols])\n"
      ],
      "metadata": {
        "id": "BKcrLlyuV9AL"
      },
      "execution_count": 187,
      "outputs": []
    },
    {
      "cell_type": "code",
      "source": [
        "from sklearn.impute import SimpleImputer\n",
        "\n",
        "# Imputation\n",
        "my_imputer = SimpleImputer()\n",
        "X_train = pd.DataFrame(my_imputer.fit_transform(X_train))\n",
        "X_test = pd.DataFrame(my_imputer.transform(X_test))"
      ],
      "metadata": {
        "id": "95SiW8cjW2yx"
      },
      "execution_count": 188,
      "outputs": []
    },
    {
      "cell_type": "code",
      "source": [
        "from sklearn.linear_model import LogisticRegression\n",
        "log_model = LogisticRegression(max_iter=1000)\n",
        "\n",
        "log_model.fit(X_train,y_train)\n",
        "y_pred=log_model.predict(X_test)\n",
        "accuracy_score(y_test,y_pred)"
      ],
      "metadata": {
        "colab": {
          "base_uri": "https://localhost:8080/"
        },
        "id": "MyCb8ad6Yk7T",
        "outputId": "ea6662b4-1fba-40f5-de38-9620ea4db897"
      },
      "execution_count": 199,
      "outputs": [
        {
          "output_type": "execute_result",
          "data": {
            "text/plain": [
              "0.7891891891891892"
            ]
          },
          "metadata": {},
          "execution_count": 199
        }
      ]
    }
  ]
}